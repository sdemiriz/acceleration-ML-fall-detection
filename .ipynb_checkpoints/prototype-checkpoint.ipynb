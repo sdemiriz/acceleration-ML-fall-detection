{
 "cells": [
  {
   "cell_type": "code",
   "execution_count": 39,
   "metadata": {},
   "outputs": [],
   "source": [
    "import matplotlib.pyplot as plt\n",
    "from scipy import signal\n",
    "import pandas as pd\n",
    "import numpy as np\n",
    "import glob"
   ]
  },
  {
   "cell_type": "code",
   "execution_count": 57,
   "metadata": {},
   "outputs": [],
   "source": [
    "# Relative path file imports\n",
    "path_fall = 'data-all/fall-*.csv'\n",
    "path_drop = 'data-all/drop-*.csv'\n",
    "path_lie  = 'data-all/lie-*.csv'\n",
    "path_sit  = 'data-all/sit-*.csv'"
   ]
  },
  {
   "cell_type": "code",
   "execution_count": 58,
   "metadata": {},
   "outputs": [],
   "source": [
    "# Sort and convert to pd Series\n",
    "files_fall = pd.Series(sorted(glob.glob(path_fall)))\n",
    "files_drop = pd.Series(sorted(glob.glob(path_drop)))\n",
    "files_lie  = pd.Series(sorted(glob.glob(path_lie)))\n",
    "files_sit  = pd.Series(sorted(glob.glob(path_sit)))"
   ]
  },
  {
   "cell_type": "code",
   "execution_count": 59,
   "metadata": {},
   "outputs": [],
   "source": [
    "# Make DF for files, columns for x,y,z\n",
    "frame_fall = pd.DataFrame(np.zeros((len(files_fall), 3)))\n",
    "frame_drop = pd.DataFrame(np.zeros((len(files_drop), 3)))\n",
    "frame_lie  = pd.DataFrame(np.zeros((len(files_lie),  3)))\n",
    "frame_sit  = pd.DataFrame(np.zeros((len(files_sit),  3)))"
   ]
  },
  {
   "cell_type": "code",
   "execution_count": null,
   "metadata": {},
   "outputs": [],
   "source": []
  }
 ],
 "metadata": {
  "kernelspec": {
   "display_name": "Python 3",
   "language": "python",
   "name": "python3"
  },
  "language_info": {
   "codemirror_mode": {
    "name": "ipython",
    "version": 3
   },
   "file_extension": ".py",
   "mimetype": "text/x-python",
   "name": "python",
   "nbconvert_exporter": "python",
   "pygments_lexer": "ipython3",
   "version": "3.7.3"
  }
 },
 "nbformat": 4,
 "nbformat_minor": 2
}
